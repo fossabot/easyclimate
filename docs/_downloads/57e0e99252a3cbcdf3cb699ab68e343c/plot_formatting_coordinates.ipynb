{
  "cells": [
    {
      "cell_type": "code",
      "execution_count": null,
      "metadata": {
        "collapsed": false
      },
      "outputs": [],
      "source": [
        "%matplotlib inline"
      ]
    },
    {
      "cell_type": "markdown",
      "metadata": {},
      "source": [
        "\n# Formatting Coordinates\n\nBefore proceeding with all the steps, first import some necessary libraries and packages\n"
      ]
    },
    {
      "cell_type": "code",
      "execution_count": null,
      "metadata": {
        "collapsed": false
      },
      "outputs": [],
      "source": [
        "import easyclimate as ecl\nimport matplotlib.pyplot as plt\nimport matplotlib.ticker as ticker\nimport cartopy.crs as ccrs"
      ]
    },
    {
      "cell_type": "code",
      "execution_count": null,
      "metadata": {
        "collapsed": false
      },
      "outputs": [],
      "source": [
        "u_data = ecl.tutorial.open_tutorial_dataset('uwnd_202201_mon_mean').sortby('lat').uwnd\nu_data"
      ]
    },
    {
      "cell_type": "code",
      "execution_count": null,
      "metadata": {
        "collapsed": false
      },
      "outputs": [],
      "source": [
        "draw_data1 = u_data.isel(time = 0).sel(level = 500)\ndraw_data1"
      ]
    },
    {
      "cell_type": "code",
      "execution_count": null,
      "metadata": {
        "collapsed": false
      },
      "outputs": [],
      "source": [
        "fig, ax  = plt.subplots(1, 1)\n\ndraw_data1.plot(\n    ax = ax,\n)"
      ]
    },
    {
      "cell_type": "code",
      "execution_count": null,
      "metadata": {
        "collapsed": false
      },
      "outputs": [],
      "source": [
        "fig, ax  = plt.subplots(1, 1)\n\ndraw_data1.plot(\n    ax = ax,\n)\n\necl.plot.set_lon_format_axis(ax, axis = 'x')\necl.plot.set_lat_format_axis(ax, axis = 'y')"
      ]
    },
    {
      "cell_type": "code",
      "execution_count": null,
      "metadata": {
        "collapsed": false
      },
      "outputs": [],
      "source": [
        "draw_data1_1 = u_data.isel(time = 0).sel(level = 500).sel(lon = slice(100, 110), lat = slice(20, 23))\ndraw_data1_1"
      ]
    },
    {
      "cell_type": "code",
      "execution_count": null,
      "metadata": {
        "collapsed": false
      },
      "outputs": [],
      "source": [
        "fig, ax = plt.subplots(1, 2, figsize = (15, 5))\n\nfor axi in ax.flat:\n    draw_data1_1.plot(\n        ax = axi,\n        cmap = 'Reds'\n    )\n    axi.xaxis.set_major_locator(ticker.LinearLocator(5))\n\necl.plot.set_lon_format_axis(ax[0], axis = 'x')\necl.plot.set_lat_format_axis(ax[0], axis = 'y')\n\necl.plot.set_lon_format_axis(ax[1], axis = 'x', dms = True)\necl.plot.set_lat_format_axis(ax[1], axis = 'y', dms = True)"
      ]
    },
    {
      "cell_type": "code",
      "execution_count": null,
      "metadata": {
        "collapsed": false
      },
      "outputs": [],
      "source": [
        "draw_data2 = u_data.isel(time = 0).mean(dim = 'lon')"
      ]
    },
    {
      "cell_type": "code",
      "execution_count": null,
      "metadata": {
        "collapsed": false
      },
      "outputs": [],
      "source": [
        "fig, ax  = plt.subplots(1, 1)\n\ndraw_data2.plot.contourf(\n    ax = ax,\n    levels = 21,\n    yincrease = False\n)"
      ]
    },
    {
      "cell_type": "code",
      "execution_count": null,
      "metadata": {
        "collapsed": false
      },
      "outputs": [],
      "source": [
        "fig, ax  = plt.subplots(1, 1)\n\ndraw_data2.plot.contourf(\n    ax = ax,\n    levels = 21,\n    yincrease = False\n)\n\necl.plot.set_lat_format_axis(ax, axis = 'x')\necl.plot.set_p_format_axis(ax, axis = 'y')"
      ]
    },
    {
      "cell_type": "code",
      "execution_count": null,
      "metadata": {
        "collapsed": false
      },
      "outputs": [],
      "source": [
        "sic_data = ecl.tutorial.open_tutorial_dataset('mini_HadISST_ice').sic.isel(time = 10)\nsic_data.plot.contourf(\n    cmap = 'Blues',\n    levels = 11\n)"
      ]
    },
    {
      "cell_type": "code",
      "execution_count": null,
      "metadata": {
        "collapsed": false
      },
      "outputs": [],
      "source": [
        "fig, ax = plt.subplots(subplot_kw = {'projection': ccrs.NorthPolarStereo()})\n\nax.coastlines(edgecolor = 'black', linewidths = 0.5)\nax.stock_img()\n\necl.plot.draw_Circlemap_PolarStereo(\n    ax = ax,\n    lon_step = 30,\n    lat_step = 10,\n    lat_range = [50, 90],\n    draw_labels = True,\n    gridlines_kwargs = {'color': 'grey', 'alpha': 0.5, 'linestyle' : '--'}\n)\n\nsic_data.plot.contourf(\n    cmap = 'Blues',\n    levels = 11,\n    transform = ccrs.PlateCarree()\n)"
      ]
    },
    {
      "cell_type": "code",
      "execution_count": null,
      "metadata": {
        "collapsed": false
      },
      "outputs": [],
      "source": [
        "fig, ax = plt.subplots(subplot_kw = {'projection': ccrs.NorthPolarStereo()})\n\nax.coastlines(edgecolor = 'black', linewidths = 0.5)\nax.stock_img()\n\necl.plot.draw_Circlemap_PolarStereo(\n    ax = ax, \n    lon_step = 30,\n    lat_step = 10,\n    lat_range = [50, 90],\n    draw_labels = True,\n    set_map_boundary_kwargs = {'north_pad': 0.3, 'south_pad': 0.4},\n    gridlines_kwargs = {'color': 'grey', 'alpha': 0.5, 'linestyle' : '--'}\n)\n\nsic_data.plot(\n    cmap = 'Blues',\n    levels = 11,\n    transform = ccrs.PlateCarree()\n)"
      ]
    }
  ],
  "metadata": {
    "kernelspec": {
      "display_name": "Python 3",
      "language": "python",
      "name": "python3"
    },
    "language_info": {
      "codemirror_mode": {
        "name": "ipython",
        "version": 3
      },
      "file_extension": ".py",
      "mimetype": "text/x-python",
      "name": "python",
      "nbconvert_exporter": "python",
      "pygments_lexer": "ipython3",
      "version": "3.10.9"
    }
  },
  "nbformat": 4,
  "nbformat_minor": 0
}